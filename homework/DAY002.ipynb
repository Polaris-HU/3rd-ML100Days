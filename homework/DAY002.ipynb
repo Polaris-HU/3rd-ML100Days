{
 "cells": [
  {
   "cell_type": "markdown",
   "metadata": {},
   "source": [
    "作業問題：思考題_請找出一個你認為機器學習可以發光發熱的領域並闡述原因?\n",
    "我覺得，像是用於幫助電競選手練習，一個強大的機器人就是一個很好的對手，如果將機器人訓練到不太容易發生失誤，並且讓他和\n",
    "選手們對戰練習，這會是一個很好的對手，畢竟要幾乎不發生失誤，才能戰勝強大的機器人AI，AI也能從對戰中取得數據，進一步\n",
    "進化，兩方都能受惠，如果將它發展成一個產業，向需要練習賽的人收取一些費用，我覺得這樣能夠發展出一個，幫助選手練習\n",
    "的一個產業鏈，跟時下最夯的所有電子競技做連結，向需要的戰隊提供練習比賽，向它們收取費用，這樣就能發展出一個完整的產業。"
   ]
  }
 ],
 "metadata": {
  "kernelspec": {
   "display_name": "Python 3",
   "language": "python",
   "name": "python3"
  },
  "language_info": {
   "codemirror_mode": {
    "name": "ipython",
    "version": 3
   },
   "file_extension": ".py",
   "mimetype": "text/x-python",
   "name": "python",
   "nbconvert_exporter": "python",
   "pygments_lexer": "ipython3",
   "version": "3.7.3"
  }
 },
 "nbformat": 4,
 "nbformat_minor": 2
}
