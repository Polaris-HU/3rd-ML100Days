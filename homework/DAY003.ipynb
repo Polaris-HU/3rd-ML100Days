{
 "cells": [
  {
   "cell_type": "markdown",
   "metadata": {},
   "source": [
    "請至以下機器學習巨頭的 blog 參觀，試著閱讀一篇文章並分析其 \n",
    "\n",
    "作業 1：目標\n",
    "\n",
    "作業 2：方法\n",
    "\n",
    "作業 3：資料來源 \n",
    "\n",
    "1.他的目標是透過AI強化輸入法的應用，讓使用者在使用輸入法的時候，能夠找到相應的關鍵字所提供的資料，或是另一種更好的說法，透過AI的作用，\n",
    "推薦給使用者。也能透過強化AI來將智能輸入更加的強化，實現更精確的語音轉文字的功能，透過AI強化回答試智能搜索等等功能。\n",
    "2.他會將你所輸入的文字，分析之後並進行分類，看是要強化回答，還是透過搜索來找出使用者所需的請求。\n",
    "3.https://www.jiqizhixin.com/articles/2019-08-19-19"
   ]
  }
 ],
 "metadata": {
  "kernelspec": {
   "display_name": "Python 3",
   "language": "python",
   "name": "python3"
  },
  "language_info": {
   "codemirror_mode": {
    "name": "ipython",
    "version": 3
   },
   "file_extension": ".py",
   "mimetype": "text/x-python",
   "name": "python",
   "nbconvert_exporter": "python",
   "pygments_lexer": "ipython3",
   "version": "3.7.3"
  }
 },
 "nbformat": 4,
 "nbformat_minor": 2
}
